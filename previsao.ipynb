import pandas as pd
import numpy as np
import matplotlib.pyplot as plt
%matplotlib inline
# elimina os warnings das bibliotecas
import warnings
warnings.filterwarnings("ignore")

from pandas.plotting import autocorrelation_plot
from matplotlib import pyplot


 
df = pd.read_csv('/content/drive/MyDrive/previsao/dataset.csv', thousands=',')
df["Escopo1"]=df["Escopo1"].astype(float)
df["Escopo2"]=df["Escopo2"].astype(float)
df["Escopo3"]=df["Escopo2"].astype(float)

escopo1 = df.filter(['Ref','Escopo1'], axis=1)
escopo1['Ref']=pd.to_datetime(df['Ref'])
escopo1 = escopo1[escopo1.loc[:]!=0].dropna()
escopo1.set_index('Ref',inplace=True)
escopo1.head()
